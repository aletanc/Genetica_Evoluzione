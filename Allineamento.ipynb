{
 "cells": [
  {
   "cell_type": "markdown",
   "id": "eb8a3a26",
   "metadata": {},
   "source": [
    "# Allineamento \"Brute Force\""
   ]
  },
  {
   "cell_type": "code",
   "execution_count": 64,
   "id": "3d53cdba",
   "metadata": {},
   "outputs": [],
   "source": [
    "from collections import deque\n",
    "from functools import partial\n",
    "\n",
    "def all_alignments(x, y):\n",
    "    \"\"\"Return an iterable of all alignments of two\n",
    "    sequences.\n",
    "\n",
    "    x, y -- Sequences.\n",
    "    \"\"\"\n",
    "\n",
    "    def F(x, y):\n",
    "        \"\"\"A helper function that recursively builds the\n",
    "        alignments.\n",
    "\n",
    "        x, y -- Sequence indices for the original x and y.\n",
    "        \"\"\"\n",
    "        if len(x) == 0 and len(y) == 0:\n",
    "            yield deque()\n",
    "\n",
    "        scenarios = []\n",
    "        if len(x) > 0 and len(y) > 0:\n",
    "            scenarios.append((x[0], x[1:], y[0], y[1:]))\n",
    "        if len(x) > 0:\n",
    "            scenarios.append((x[0], x[1:], None, y))\n",
    "        if len(y) > 0:\n",
    "            scenarios.append((None, x, y[0], y[1:]))\n",
    "\n",
    "        # NOTE: \"xh\" and \"xt\" stand for \"x-head\" and \"x-tail\",\n",
    "        # with \"head\" being the front of the sequence, and\n",
    "        # \"tail\" being the rest of the sequence. Similarly for\n",
    "        # \"yh\" and \"yt\".\n",
    "        for xh, xt, yh, yt in scenarios:\n",
    "            for alignment in F(xt, yt):\n",
    "                alignment.appendleft((xh, yh))\n",
    "                yield alignment\n",
    "\n",
    "    alignments = F(range(len(x)), range(len(y)))\n",
    "    return map(list, alignments)\n",
    "\n",
    "def print_alignment(x, y, alignment):\n",
    "    print(\"\".join(\n",
    "        \"-\" if i is None else x[i] for i, _ in alignment\n",
    "    ))\n",
    "    print(\"\".join(\n",
    "        \"-\" if j is None else y[j] for _, j in alignment\n",
    "    ))\n",
    "\n",
    "def alignment_score(x, y, alignment):\n",
    "    \"\"\"Score an alignment.\n",
    "\n",
    "    x, y -- sequences.\n",
    "    alignment -- an alignment of x and y.\n",
    "    \"\"\"\n",
    "    score_gap = -1\n",
    "    score_same = +1\n",
    "    score_different = -1\n",
    "\n",
    "    score = 0\n",
    "    for i, j in alignment:\n",
    "        if (i is None) or (j is None):\n",
    "            score += score_gap\n",
    "        elif x[i] == y[j]:\n",
    "            score += score_same\n",
    "        elif x[i] != y[j]:\n",
    "            score += score_different\n",
    "\n",
    "    return score\n",
    "\n",
    "def align_bf(x, y):\n",
    "    \"\"\"Align two sequences, maximizing the\n",
    "    alignment score, using brute force.\n",
    "\n",
    "    x, y -- sequences.\n",
    "    \"\"\"\n",
    "    return max(\n",
    "        all_alignments(x, y),\n",
    "        key=partial(alignment_score, x, y),\n",
    "    )"
   ]
  },
  {
   "cell_type": "code",
   "execution_count": 72,
   "id": "43e3eb65",
   "metadata": {},
   "outputs": [
    {
     "name": "stdout",
     "output_type": "stream",
     "text": [
      "['C'] ['C']\n",
      "C\n",
      "C\n",
      "time: 0.000\n",
      "['G' 'T'] ['A' 'A']\n",
      "GT\n",
      "AA\n",
      "time: 0.000\n",
      "['A' 'T' 'C'] ['T' 'C' 'T']\n",
      "ATC-\n",
      "-TCT\n",
      "time: 0.000\n",
      "['G' 'G' 'C' 'G'] ['A' 'A' 'G' 'G']\n",
      "G-GCG\n",
      "AAG-G\n",
      "time: 0.002\n",
      "['G' 'A' 'A' 'A' 'T'] ['A' 'T' 'C' 'G' 'G']\n",
      "GAAAT-\n",
      "-ATCGG\n",
      "time: 0.012\n",
      "['C' 'G' 'A' 'C' 'A' 'T'] ['G' 'G' 'G' 'C' 'C' 'C']\n",
      "CGACAT\n",
      "GGGCCC\n",
      "time: 0.070\n",
      "['A' 'T' 'C' 'A' 'C' 'G' 'C'] ['A' 'T' 'C' 'C' 'C' 'G' 'T']\n",
      "ATCACGC\n",
      "ATCCCGT\n",
      "time: 0.418\n",
      "['G' 'C' 'C' 'A' 'G' 'C' 'G' 'A'] ['T' 'C' 'T' 'A' 'A' 'A' 'T' 'T']\n",
      "GCCAGCGA\n",
      "TCTAAATT\n",
      "time: 2.478\n",
      "['T' 'C' 'T' 'C' 'T' 'A' 'T' 'A' 'T'] ['A' 'T' 'A' 'A' 'A' 'G' 'A' 'G' 'A']\n",
      "TCTCTATAT-\n",
      "A-TAAAGAGA\n",
      "time: 14.795\n",
      "['G' 'C' 'C' 'T' 'G' 'T' 'G' 'G' 'T' 'T'] ['G' 'C' 'A' 'C' 'T' 'G' 'C' 'G' 'A' 'G']\n"
     ]
    },
    {
     "ename": "KeyboardInterrupt",
     "evalue": "",
     "output_type": "error",
     "traceback": [
      "\u001b[1;31m---------------------------------------------------------------------------\u001b[0m",
      "\u001b[1;31mKeyboardInterrupt\u001b[0m                         Traceback (most recent call last)",
      "Input \u001b[1;32mIn [72]\u001b[0m, in \u001b[0;36m<cell line: 6>\u001b[1;34m()\u001b[0m\n\u001b[0;32m     12\u001b[0m \u001b[38;5;28;01mimport\u001b[39;00m \u001b[38;5;21;01mtime\u001b[39;00m\n\u001b[0;32m     13\u001b[0m start \u001b[38;5;241m=\u001b[39m time\u001b[38;5;241m.\u001b[39mtime()\n\u001b[1;32m---> 14\u001b[0m print_alignment(x, y, \u001b[43malign_bf\u001b[49m\u001b[43m(\u001b[49m\u001b[43mx\u001b[49m\u001b[43m,\u001b[49m\u001b[43m \u001b[49m\u001b[43my\u001b[49m\u001b[43m)\u001b[49m)\n\u001b[0;32m     15\u001b[0m stop \u001b[38;5;241m=\u001b[39m time\u001b[38;5;241m.\u001b[39mtime()\n\u001b[0;32m     16\u001b[0m \u001b[38;5;28mprint\u001b[39m(\u001b[38;5;124m\"\u001b[39m\u001b[38;5;124mtime: \u001b[39m\u001b[38;5;132;01m%0.3f\u001b[39;00m\u001b[38;5;124m\"\u001b[39m \u001b[38;5;241m%\u001b[39m (stop\u001b[38;5;241m-\u001b[39mstart))\n",
      "Input \u001b[1;32mIn [64]\u001b[0m, in \u001b[0;36malign_bf\u001b[1;34m(x, y)\u001b[0m\n\u001b[0;32m     70\u001b[0m \u001b[38;5;28;01mdef\u001b[39;00m \u001b[38;5;21malign_bf\u001b[39m(x, y):\n\u001b[0;32m     71\u001b[0m     \u001b[38;5;124;03m\"\"\"Align two sequences, maximizing the\u001b[39;00m\n\u001b[0;32m     72\u001b[0m \u001b[38;5;124;03m    alignment score, using brute force.\u001b[39;00m\n\u001b[0;32m     73\u001b[0m \n\u001b[0;32m     74\u001b[0m \u001b[38;5;124;03m    x, y -- sequences.\u001b[39;00m\n\u001b[0;32m     75\u001b[0m \u001b[38;5;124;03m    \"\"\"\u001b[39;00m\n\u001b[1;32m---> 76\u001b[0m     \u001b[38;5;28;01mreturn\u001b[39;00m \u001b[38;5;28;43mmax\u001b[39;49m\u001b[43m(\u001b[49m\n\u001b[0;32m     77\u001b[0m \u001b[43m        \u001b[49m\u001b[43mall_alignments\u001b[49m\u001b[43m(\u001b[49m\u001b[43mx\u001b[49m\u001b[43m,\u001b[49m\u001b[43m \u001b[49m\u001b[43my\u001b[49m\u001b[43m)\u001b[49m\u001b[43m,\u001b[49m\n\u001b[0;32m     78\u001b[0m \u001b[43m        \u001b[49m\u001b[43mkey\u001b[49m\u001b[38;5;241;43m=\u001b[39;49m\u001b[43mpartial\u001b[49m\u001b[43m(\u001b[49m\u001b[43malignment_score\u001b[49m\u001b[43m,\u001b[49m\u001b[43m \u001b[49m\u001b[43mx\u001b[49m\u001b[43m,\u001b[49m\u001b[43m \u001b[49m\u001b[43my\u001b[49m\u001b[43m)\u001b[49m\u001b[43m,\u001b[49m\n\u001b[0;32m     79\u001b[0m \u001b[43m    \u001b[49m\u001b[43m)\u001b[49m\n",
      "Input \u001b[1;32mIn [64]\u001b[0m, in \u001b[0;36malignment_score\u001b[1;34m(x, y, alignment)\u001b[0m\n\u001b[0;32m     60\u001b[0m \u001b[38;5;28;01mfor\u001b[39;00m i, j \u001b[38;5;129;01min\u001b[39;00m alignment:\n\u001b[0;32m     61\u001b[0m     \u001b[38;5;28;01mif\u001b[39;00m (i \u001b[38;5;129;01mis\u001b[39;00m \u001b[38;5;28;01mNone\u001b[39;00m) \u001b[38;5;129;01mor\u001b[39;00m (j \u001b[38;5;129;01mis\u001b[39;00m \u001b[38;5;28;01mNone\u001b[39;00m):\n\u001b[1;32m---> 62\u001b[0m         score \u001b[38;5;241m+\u001b[39m\u001b[38;5;241m=\u001b[39m score_gap\n\u001b[0;32m     63\u001b[0m     \u001b[38;5;28;01melif\u001b[39;00m x[i] \u001b[38;5;241m==\u001b[39m y[j]:\n\u001b[0;32m     64\u001b[0m         score \u001b[38;5;241m+\u001b[39m\u001b[38;5;241m=\u001b[39m score_same\n",
      "\u001b[1;31mKeyboardInterrupt\u001b[0m: "
     ]
    }
   ],
   "source": [
    "np.random.seed(1234)\n",
    "\n",
    "n_brute = []\n",
    "t_brute = []\n",
    "\n",
    "for i in range(20 + 1):\n",
    "    i+=1\n",
    "\n",
    "    x = np.random.choice(['A', 'T', 'G', 'C'], i)\n",
    "    y = np.random.choice(['A', 'T', 'G', 'C'], i)\n",
    "    print(x,y)\n",
    "    import time\n",
    "    start = time.time()\n",
    "    print_alignment(x, y, align_bf(x, y))\n",
    "    stop = time.time()\n",
    "    print(\"time: %0.3f\" % (stop-start))\n",
    "    \n",
    "    n_brute.append(i)\n",
    "    t_brute.append(stop-start)"
   ]
  },
  {
   "cell_type": "markdown",
   "id": "a2d88fea",
   "metadata": {},
   "source": [
    "# Allineamento con Programmazione Dinamica"
   ]
  },
  {
   "cell_type": "code",
   "execution_count": 10,
   "id": "ca95dd8b",
   "metadata": {},
   "outputs": [],
   "source": [
    "import numpy as np\n",
    "\n",
    "def nw(x, y, match = 1, mismatch = 1, gap = 1):\n",
    "    nx = len(x)\n",
    "    ny = len(y)\n",
    "    # Optimal score at each possible pair of characters.\n",
    "    F = np.zeros((nx + 1, ny + 1))\n",
    "    F[:,0] = np.linspace(0, -nx * gap, nx + 1)\n",
    "    F[0,:] = np.linspace(0, -ny * gap, ny + 1)\n",
    "    # Pointers to trace through an optimal aligment.\n",
    "    P = np.zeros((nx + 1, ny + 1))\n",
    "    P[:,0] = 3\n",
    "    P[0,:] = 4\n",
    "    # Temporary scores.\n",
    "    t = np.zeros(3)\n",
    "    for i in range(nx):\n",
    "        for j in range(ny):\n",
    "            if x[i] == y[j]:\n",
    "                t[0] = F[i,j] + match\n",
    "            else:\n",
    "                t[0] = F[i,j] - mismatch\n",
    "            t[1] = F[i,j+1] - gap\n",
    "            t[2] = F[i+1,j] - gap\n",
    "            tmax = np.max(t)\n",
    "            F[i+1,j+1] = tmax\n",
    "            if t[0] == tmax:\n",
    "                P[i+1,j+1] += 2\n",
    "            if t[1] == tmax:\n",
    "                P[i+1,j+1] += 3\n",
    "            if t[2] == tmax:\n",
    "                P[i+1,j+1] += 4\n",
    "    # Trace through an optimal alignment.\n",
    "    i = nx\n",
    "    j = ny\n",
    "    rx = []\n",
    "    ry = []\n",
    "    while i > 0 or j > 0:\n",
    "        if P[i,j] in [2, 5, 6, 9]:\n",
    "            rx.append(x[i-1])\n",
    "            ry.append(y[j-1])\n",
    "            i -= 1\n",
    "            j -= 1\n",
    "        elif P[i,j] in [3, 5, 7, 9]:\n",
    "            rx.append(x[i-1])\n",
    "            ry.append('-')\n",
    "            i -= 1\n",
    "        elif P[i,j] in [4, 6, 7, 9]:\n",
    "            rx.append('-')\n",
    "            ry.append(y[j-1])\n",
    "            j -= 1\n",
    "    # Reverse the strings.\n",
    "    rx = ''.join(rx)[::-1]\n",
    "    ry = ''.join(ry)[::-1]\n",
    "    return '\\n'.join([rx, ry])\n",
    "\n"
   ]
  },
  {
   "cell_type": "code",
   "execution_count": 79,
   "id": "99f934dd",
   "metadata": {},
   "outputs": [
    {
     "name": "stdout",
     "output_type": "stream",
     "text": [
      "CCGTAAATCT\n",
      "CTGGCGAAGG\n",
      "migliori allineamenti: \n",
      "C-CGTAAATCT\n",
      "CTGGCGAA-GG\n"
     ]
    }
   ],
   "source": [
    "np.random.seed(1234)\n",
    "\n",
    "n = []\n",
    "t = []\n",
    "\n",
    "x = np.random.choice(['A', 'T', 'G', 'C'], 10)\n",
    "y = np.random.choice(['A', 'T', 'G', 'C'], 10)\n",
    "print(\"\".join(x))\n",
    "print(\"\".join(y))\n",
    "print(\"migliori allineamenti: \")\n",
    "print(nw(x, y))\n",
    "verbose = False\n",
    "for i in range(1000 - 1):\n",
    "\n",
    "    i+=1\n",
    "    \n",
    "    x = np.random.choice(['A', 'T', 'G', 'C'], i)\n",
    "    y = np.random.choice(['A', 'T', 'G', 'C'], i)\n",
    "\n",
    "    if verbose:\n",
    "        print(\"\".join(x))\n",
    "        print(\"\".join(y))\n",
    "        print(\"migliori allineamenti: \")\n",
    "\n",
    "    import time\n",
    "\n",
    "    start = time.time()\n",
    "    \n",
    "    nww = nw(x, y)\n",
    "    if verbose:\n",
    "        print(nww)\n",
    "\n",
    "    stop = time.time()\n",
    "    if verbose:\n",
    "        print(\"lunghezza \",len(x))\n",
    "    print(i)\n",
    "    print(\"tempo: %0.4f sec\" % (stop-start))\n",
    "\n",
    "    n.append(i)\n",
    "    t.append(stop-start)\n"
   ]
  },
  {
   "cell_type": "code",
   "execution_count": 16,
   "id": "d7cc7384",
   "metadata": {},
   "outputs": [],
   "source": [
    "#esporto i dati sui calcoli temporali per non doverli rifare\n",
    "import pandas as pd\n",
    "df = pd.DataFrame()\n",
    "df[\"lenght\"] = n\n",
    "df[\"time\"] = t\n",
    "\n",
    "df.to_csv(r'NeedlemanWunschTimeComplexity.csv', index=False)"
   ]
  },
  {
   "cell_type": "code",
   "execution_count": 83,
   "id": "a121c3bf",
   "metadata": {},
   "outputs": [],
   "source": [
    "# import i dati sui calcoli temporali\n",
    "\n",
    "read_df = pd.read_csv('NeedlemanWunschTimeComplexity.csv')\n",
    "x = read_df[\"lenght\"]\n",
    "y = read_df[\"time\"]"
   ]
  },
  {
   "cell_type": "code",
   "execution_count": 75,
   "id": "47f47e1f",
   "metadata": {},
   "outputs": [
    {
     "data": {
      "image/png": "[encoded data removed]",
      "text/plain": [
       "<Figure size 432x288 with 1 Axes>"
      ]
     },
     "metadata": {
      "needs_background": "light"
     },
     "output_type": "display_data"
    }
   ],
   "source": [
    "import matplotlib.pyplot as plt\n",
    "\n",
    "plt.plot(x, y, '.')\n",
    "plt.xlabel(\"lunghezza sequenza\")\n",
    "plt.ylabel(\"tempo (s)\")\n",
    "plt.title(\"Programmazione dinamica\")\n",
    "plt.show()"
   ]
  },
  {
   "cell_type": "code",
   "execution_count": 81,
   "id": "06fb699b",
   "metadata": {},
   "outputs": [
    {
     "data": {
      "image/png": "[encoded data removed]",
      "text/plain": [
       "<Figure size 432x288 with 1 Axes>"
      ]
     },
     "metadata": {
      "needs_background": "light"
     },
     "output_type": "display_data"
    }
   ],
   "source": [
    "plt.plot(n_brute, t_brute)\n",
    "plt.xlabel(\"lunghezza sequenza\")\n",
    "plt.ylabel(\"tempo (s)\")\n",
    "plt.title(\"'Brute force'\")\n",
    "plt.show()"
   ]
  },
  {
   "cell_type": "code",
   "execution_count": 84,
   "id": "e1e62197",
   "metadata": {},
   "outputs": [
    {
     "data": {
      "image/png": "[encoded data removed]",
      "text/plain": [
       "<Figure size 432x288 with 1 Axes>"
      ]
     },
     "metadata": {
      "needs_background": "light"
     },
     "output_type": "display_data"
    }
   ],
   "source": [
    "plt.plot(n_brute, t_brute)\n",
    "plt.plot(x, y, '.')\n",
    "plt.xlabel(\"lunghezza sequenza\")\n",
    "plt.ylabel(\"tempo (s)\")\n",
    "plt.title(\"confronto\")\n",
    "plt.show()"
   ]
  },
  {
   "cell_type": "code",
   "execution_count": null,
   "id": "e592ff52",
   "metadata": {},
   "outputs": [],
   "source": []
  }
 ],
 "metadata": {
  "kernelspec": {
   "display_name": "Python 3 (ipykernel)",
   "language": "python",
   "name": "python3"
  },
  "language_info": {
   "codemirror_mode": {
    "name": "ipython",
    "version": 3
   },
   "file_extension": ".py",
   "mimetype": "text/x-python",
   "name": "python",
   "nbconvert_exporter": "python",
   "pygments_lexer": "ipython3",
   "version": "3.10.5"
  }
 },
 "nbformat": 4,
 "nbformat_minor": 5
}
